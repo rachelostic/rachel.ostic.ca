{
  "nbformat": 4,
  "nbformat_minor": 0,
  "metadata": {
    "colab": {
      "name": "2020books.ipynb",
      "provenance": [],
      "collapsed_sections": []
    },
    "kernelspec": {
      "name": "python3",
      "display_name": "Python 3"
    }
  },
  "cells": [
    {
      "cell_type": "markdown",
      "metadata": {
        "id": "DX4C-qxM7Lmw"
      },
      "source": [
        "---\r\n",
        "title: 2020 reading list\r\n",
        "summary: Taking a look back at the books I read in 2020 to learn more about my reading habits\r\n",
        "authors:\r\n",
        "- admin\r\n",
        "tags: \r\n",
        "- Books\r\n",
        "- Python\r\n",
        "categories: []\r\n",
        "date: \"2020-01-09T00:00:00Z\"\r\n",
        "featured: false\r\n",
        "draft: false\r\n",
        "math: true\r\n",
        "\r\n",
        "links:\r\n",
        "url_pdf: ''\r\n",
        "url_code: ''\r\n",
        "url_dataset: ''\r\n",
        "url_poster: ''\r\n",
        "url_project: ''\r\n",
        "url_slides: ''\r\n",
        "url_source: ''\r\n",
        "url_video: ''\r\n",
        "\r\n",
        "# Featured image\r\n",
        "# To use, add an image named `featured.jpg/png` to your page's folder. \r\n",
        "image:\r\n",
        "  caption: \"\"\r\n",
        "  focal_point: \"\"\r\n",
        "\r\n",
        "# Projects (optional).\r\n",
        "#   Associate this post with one or more of your projects.\r\n",
        "#   Simply enter your project's folder or file name without extension.\r\n",
        "#   E.g. `projects = [\"internal-project\"]` references \r\n",
        "#   `content/project/deep-learning/index.md`.\r\n",
        "#   Otherwise, set `projects = []`.\r\n",
        "projects: []\r\n",
        "---"
      ]
    },
    {
      "cell_type": "markdown",
      "metadata": {
        "id": "RDvU_Er6yZ43"
      },
      "source": [
        "I read some 70 books in 2020. That got me thinking, maybe I could turn that list of books into a simple data set and explore some **Python** packages to analyze and learn more about my reading habits. \r\n",
        "\r\n",
        "I turn to books for a few different reasons: for comfort, emotional catharsis, and to learn new things. Over the course of 2020, reading books was a reliable way to distract myself while expanding my horizons."
      ]
    },
    {
      "cell_type": "markdown",
      "metadata": {
        "id": "rrpJGhV8XdP3"
      },
      "source": [
        "# Load data"
      ]
    },
    {
      "cell_type": "markdown",
      "metadata": {
        "id": "GGrZzgswXnY8"
      },
      "source": [
        "This part is an excuse for me to get a quick introduction to **pandas** and how it handles tabular data as a dataframe. "
      ]
    },
    {
      "cell_type": "code",
      "metadata": {
        "id": "IdjvKU0rWqTg"
      },
      "source": [
        "import pandas as pd"
      ],
      "execution_count": 1,
      "outputs": []
    },
    {
      "cell_type": "markdown",
      "metadata": {
        "id": "JjTf4L1RX4xr"
      },
      "source": [
        "Now I can load the data from a csv file and take a look at the first entries. "
      ]
    },
    {
      "cell_type": "code",
      "metadata": {
        "colab": {
          "base_uri": "https://localhost:8080/",
          "height": 359
        },
        "id": "QpYMSiBzX3gB",
        "outputId": "8df979b8-1cc2-47c3-b943-7df2504d7ee8"
      },
      "source": [
        "books = pd.read_csv(\"2020 book table.csv\")\r\n",
        "books.head(10)"
      ],
      "execution_count": 2,
      "outputs": [
        {
          "output_type": "execute_result",
          "data": {
            "text/html": [
              "<div>\n",
              "<style scoped>\n",
              "    .dataframe tbody tr th:only-of-type {\n",
              "        vertical-align: middle;\n",
              "    }\n",
              "\n",
              "    .dataframe tbody tr th {\n",
              "        vertical-align: top;\n",
              "    }\n",
              "\n",
              "    .dataframe thead th {\n",
              "        text-align: right;\n",
              "    }\n",
              "</style>\n",
              "<table border=\"1\" class=\"dataframe\">\n",
              "  <thead>\n",
              "    <tr style=\"text-align: right;\">\n",
              "      <th></th>\n",
              "      <th>Count</th>\n",
              "      <th>Title</th>\n",
              "      <th>Author</th>\n",
              "      <th>Year</th>\n",
              "      <th>Note</th>\n",
              "      <th>Number of pages</th>\n",
              "      <th>Reading time (if known)</th>\n",
              "      <th>Reread?</th>\n",
              "    </tr>\n",
              "  </thead>\n",
              "  <tbody>\n",
              "    <tr>\n",
              "      <th>0</th>\n",
              "      <td>1</td>\n",
              "      <td>Words and Rules</td>\n",
              "      <td>Steven Pinker</td>\n",
              "      <td>1999</td>\n",
              "      <td>nonfiction</td>\n",
              "      <td>348</td>\n",
              "      <td>NaN</td>\n",
              "      <td>0</td>\n",
              "    </tr>\n",
              "    <tr>\n",
              "      <th>1</th>\n",
              "      <td>2</td>\n",
              "      <td>The Wonderful Wizard of Oz</td>\n",
              "      <td>L. Frank Baum</td>\n",
              "      <td>1900</td>\n",
              "      <td>fiction; children’s; classics</td>\n",
              "      <td>224</td>\n",
              "      <td>NaN</td>\n",
              "      <td>0</td>\n",
              "    </tr>\n",
              "    <tr>\n",
              "      <th>2</th>\n",
              "      <td>3</td>\n",
              "      <td>Little Women</td>\n",
              "      <td>Louisa May Alcott</td>\n",
              "      <td>1868</td>\n",
              "      <td>fiction; classics</td>\n",
              "      <td>504</td>\n",
              "      <td>NaN</td>\n",
              "      <td>1</td>\n",
              "    </tr>\n",
              "    <tr>\n",
              "      <th>3</th>\n",
              "      <td>4</td>\n",
              "      <td>Unnatural Death</td>\n",
              "      <td>Dorothy L. Sayers</td>\n",
              "      <td>1927</td>\n",
              "      <td>fiction; mystery</td>\n",
              "      <td>240</td>\n",
              "      <td>NaN</td>\n",
              "      <td>0</td>\n",
              "    </tr>\n",
              "    <tr>\n",
              "      <th>4</th>\n",
              "      <td>5</td>\n",
              "      <td>Seeing Voices</td>\n",
              "      <td>Oliver Sacks</td>\n",
              "      <td>1989</td>\n",
              "      <td>nonfiction</td>\n",
              "      <td>186</td>\n",
              "      <td>NaN</td>\n",
              "      <td>0</td>\n",
              "    </tr>\n",
              "    <tr>\n",
              "      <th>5</th>\n",
              "      <td>6</td>\n",
              "      <td>The Paper Garden</td>\n",
              "      <td>Molly Peacock</td>\n",
              "      <td>2010</td>\n",
              "      <td>nonfiction; biography</td>\n",
              "      <td>416</td>\n",
              "      <td>NaN</td>\n",
              "      <td>0</td>\n",
              "    </tr>\n",
              "    <tr>\n",
              "      <th>6</th>\n",
              "      <td>7</td>\n",
              "      <td>Bad Heir Day</td>\n",
              "      <td>Wendy Holden</td>\n",
              "      <td>2008</td>\n",
              "      <td>fiction</td>\n",
              "      <td>339</td>\n",
              "      <td>NaN</td>\n",
              "      <td>1</td>\n",
              "    </tr>\n",
              "    <tr>\n",
              "      <th>7</th>\n",
              "      <td>8</td>\n",
              "      <td>Frankenstein</td>\n",
              "      <td>Mary Shelley</td>\n",
              "      <td>1818</td>\n",
              "      <td>fiction; classics; horror</td>\n",
              "      <td>177</td>\n",
              "      <td>NaN</td>\n",
              "      <td>0</td>\n",
              "    </tr>\n",
              "    <tr>\n",
              "      <th>8</th>\n",
              "      <td>9</td>\n",
              "      <td>The Franchise Affair</td>\n",
              "      <td>Josephine Tey</td>\n",
              "      <td>1948</td>\n",
              "      <td>fiction; mystery</td>\n",
              "      <td>272</td>\n",
              "      <td>NaN</td>\n",
              "      <td>1</td>\n",
              "    </tr>\n",
              "    <tr>\n",
              "      <th>9</th>\n",
              "      <td>10</td>\n",
              "      <td>A Room with a View</td>\n",
              "      <td>E. M. Forster</td>\n",
              "      <td>1908</td>\n",
              "      <td>fiction</td>\n",
              "      <td>172</td>\n",
              "      <td>NaN</td>\n",
              "      <td>0</td>\n",
              "    </tr>\n",
              "  </tbody>\n",
              "</table>\n",
              "</div>"
            ],
            "text/plain": [
              "   Count                       Title  ... Reading time (if known)  Reread?\n",
              "0      1             Words and Rules  ...                     NaN        0\n",
              "1      2  The Wonderful Wizard of Oz  ...                     NaN        0\n",
              "2      3                Little Women  ...                     NaN        1\n",
              "3      4             Unnatural Death  ...                     NaN        0\n",
              "4      5               Seeing Voices  ...                     NaN        0\n",
              "5      6            The Paper Garden  ...                     NaN        0\n",
              "6      7                Bad Heir Day  ...                     NaN        1\n",
              "7      8                Frankenstein  ...                     NaN        0\n",
              "8      9        The Franchise Affair  ...                     NaN        1\n",
              "9     10          A Room with a View  ...                     NaN        0\n",
              "\n",
              "[10 rows x 8 columns]"
            ]
          },
          "metadata": {
            "tags": []
          },
          "execution_count": 2
        }
      ]
    },
    {
      "cell_type": "markdown",
      "metadata": {
        "id": "yH5uJu21Vqj0"
      },
      "source": [
        "For the columns containing all numeric entries, a quick way to get a sense of the distribution is using **.describe()**.\r\n",
        "\r\n",
        "Here I can see counts, means, standard deviations, extrema and quartiles by column."
      ]
    },
    {
      "cell_type": "code",
      "metadata": {
        "colab": {
          "base_uri": "https://localhost:8080/",
          "height": 297
        },
        "id": "IYbeuBdIydRv",
        "outputId": "414c7b4e-c7a5-451d-c61b-2d511c8ba1e9"
      },
      "source": [
        "books.describe()"
      ],
      "execution_count": 3,
      "outputs": [
        {
          "output_type": "execute_result",
          "data": {
            "text/html": [
              "<div>\n",
              "<style scoped>\n",
              "    .dataframe tbody tr th:only-of-type {\n",
              "        vertical-align: middle;\n",
              "    }\n",
              "\n",
              "    .dataframe tbody tr th {\n",
              "        vertical-align: top;\n",
              "    }\n",
              "\n",
              "    .dataframe thead th {\n",
              "        text-align: right;\n",
              "    }\n",
              "</style>\n",
              "<table border=\"1\" class=\"dataframe\">\n",
              "  <thead>\n",
              "    <tr style=\"text-align: right;\">\n",
              "      <th></th>\n",
              "      <th>Count</th>\n",
              "      <th>Year</th>\n",
              "      <th>Number of pages</th>\n",
              "      <th>Reread?</th>\n",
              "    </tr>\n",
              "  </thead>\n",
              "  <tbody>\n",
              "    <tr>\n",
              "      <th>count</th>\n",
              "      <td>70.000000</td>\n",
              "      <td>70.000000</td>\n",
              "      <td>70.000000</td>\n",
              "      <td>70.000000</td>\n",
              "    </tr>\n",
              "    <tr>\n",
              "      <th>mean</th>\n",
              "      <td>35.500000</td>\n",
              "      <td>1990.442857</td>\n",
              "      <td>298.471429</td>\n",
              "      <td>0.200000</td>\n",
              "    </tr>\n",
              "    <tr>\n",
              "      <th>std</th>\n",
              "      <td>20.351085</td>\n",
              "      <td>38.526722</td>\n",
              "      <td>113.548524</td>\n",
              "      <td>0.402888</td>\n",
              "    </tr>\n",
              "    <tr>\n",
              "      <th>min</th>\n",
              "      <td>1.000000</td>\n",
              "      <td>1818.000000</td>\n",
              "      <td>87.000000</td>\n",
              "      <td>0.000000</td>\n",
              "    </tr>\n",
              "    <tr>\n",
              "      <th>25%</th>\n",
              "      <td>18.250000</td>\n",
              "      <td>1982.500000</td>\n",
              "      <td>208.500000</td>\n",
              "      <td>0.000000</td>\n",
              "    </tr>\n",
              "    <tr>\n",
              "      <th>50%</th>\n",
              "      <td>35.500000</td>\n",
              "      <td>2006.000000</td>\n",
              "      <td>291.000000</td>\n",
              "      <td>0.000000</td>\n",
              "    </tr>\n",
              "    <tr>\n",
              "      <th>75%</th>\n",
              "      <td>52.750000</td>\n",
              "      <td>2015.000000</td>\n",
              "      <td>352.000000</td>\n",
              "      <td>0.000000</td>\n",
              "    </tr>\n",
              "    <tr>\n",
              "      <th>max</th>\n",
              "      <td>70.000000</td>\n",
              "      <td>2020.000000</td>\n",
              "      <td>692.000000</td>\n",
              "      <td>1.000000</td>\n",
              "    </tr>\n",
              "  </tbody>\n",
              "</table>\n",
              "</div>"
            ],
            "text/plain": [
              "           Count         Year  Number of pages    Reread?\n",
              "count  70.000000    70.000000        70.000000  70.000000\n",
              "mean   35.500000  1990.442857       298.471429   0.200000\n",
              "std    20.351085    38.526722       113.548524   0.402888\n",
              "min     1.000000  1818.000000        87.000000   0.000000\n",
              "25%    18.250000  1982.500000       208.500000   0.000000\n",
              "50%    35.500000  2006.000000       291.000000   0.000000\n",
              "75%    52.750000  2015.000000       352.000000   0.000000\n",
              "max    70.000000  2020.000000       692.000000   1.000000"
            ]
          },
          "metadata": {
            "tags": []
          },
          "execution_count": 3
        }
      ]
    },
    {
      "cell_type": "markdown",
      "metadata": {
        "id": "wwN-BMpVcW3c"
      },
      "source": [
        "Time to dive a little deeper!"
      ]
    },
    {
      "cell_type": "markdown",
      "metadata": {
        "id": "t_BfMQ6nsjME"
      },
      "source": [
        "# Publication dates"
      ]
    },
    {
      "cell_type": "markdown",
      "metadata": {
        "id": "1T9cmjICnw8K"
      },
      "source": [
        "I want an overview of the publication dates for the books to see the breadth of time that I covered."
      ]
    },
    {
      "cell_type": "code",
      "metadata": {
        "colab": {
          "base_uri": "https://localhost:8080/",
          "height": 286
        },
        "id": "rpnqrySSegl_",
        "outputId": "777c89d2-1003-4452-ba18-33a63e6ed9a7"
      },
      "source": [
        "import matplotlib.pyplot as plt\r\n",
        "\r\n",
        "# set bins by decade from leftmost to rightmost edge\r\n",
        "bins = range((books['Year'].min()//10)*10, (books['Year'].max()//10+2)*10, 10)\r\n",
        "\r\n",
        "ax = books['Year'].plot.hist(bins=bins, grid=False)\r\n",
        "ax.set_xticks(bins, minor=True)\r\n",
        "ax.set_yticks(range(25), minor=True)\r\n",
        "ax.set_xlabel(\"Publication date (by decade)\", size=14)\r\n",
        "ax.set_ylabel(\"Book count\", size=14)\r\n",
        "plt.show()"
      ],
      "execution_count": 4,
      "outputs": [
        {
          "output_type": "display_data",
          "data": {
            "image/png": "[encoded data removed]",
            "text/plain": [
              "<Figure size 432x288 with 1 Axes>"
            ]
          },
          "metadata": {
            "tags": [],
            "needs_background": "light"
          }
        }
      ]
    },
    {
      "cell_type": "markdown",
      "metadata": {
        "id": "JIsZh8zJr1Du"
      },
      "source": [
        "Since the **matplotlib** settings for plots are built into **pandas**, it took me a minute to realize that I still had to use the **.show()** command to format the output nicely.\r\n",
        "\r\n",
        "I managed to read at least one book for almost every decade since the 1890s, with a far greater proportion skewing toward the last 20 years or so.\r\n",
        "Some of the data points aren't strictly accurate though - I read two books of George MacDonald stories that were written in the 19th century but took the publication date of the collection (1970s). "
      ]
    },
    {
      "cell_type": "markdown",
      "metadata": {
        "id": "6NddBM9Asn8g"
      },
      "source": [
        "# Reread vs. first encounter "
      ]
    },
    {
      "cell_type": "markdown",
      "metadata": {
        "id": "l69gbXzkstli"
      },
      "source": [
        "I tend to read books many times. Books that I grew up reading are comforting and feel like old friends. Since I also read quite quickly, I sometimes skim and miss details on a first pass that can make a second reading more worthwhile."
      ]
    },
    {
      "cell_type": "code",
      "metadata": {
        "colab": {
          "base_uri": "https://localhost:8080/"
        },
        "id": "ptUMCA4ftIj_",
        "outputId": "a803e6b7-9be3-464d-bb1b-7a0bcd895dae"
      },
      "source": [
        "books['Reread?'].astype('bool').value_counts()"
      ],
      "execution_count": 5,
      "outputs": [
        {
          "output_type": "execute_result",
          "data": {
            "text/plain": [
              "False    56\n",
              "True     14\n",
              "Name: Reread?, dtype: int64"
            ]
          },
          "metadata": {
            "tags": []
          },
          "execution_count": 5
        }
      ]
    },
    {
      "cell_type": "markdown",
      "metadata": {
        "id": "6j96PNoxthtR"
      },
      "source": [
        "I used 1/0 as True/False for an identifier in this column when entering new books, this way I can see that 14 of them were rereads."
      ]
    },
    {
      "cell_type": "markdown",
      "metadata": {
        "id": "PaUptsMQueMj"
      },
      "source": [
        "# Reading time"
      ]
    },
    {
      "cell_type": "markdown",
      "metadata": {
        "id": "nX88TdYluhhE"
      },
      "source": [
        "Partway through the year, I switched to reading mainly ebooks on my phone through Overdrive, which I have access to through the public library system. This allows me to track an additional metric: reading time. \r\n",
        "\r\n",
        "I haven't looked into how this is tracked, I suspect that my phone screen has to be on, displaying the ebook. If I get distracted or set my phone down, the app overrides my normal short screen timeout and will stay on for a few minutes (during which I may not be reading). I still suspect that it is a pretty accurate assessment, much more so than if I tried to keep a tally myself.\r\n",
        "\r\n",
        "I want to know how closely correlated this is with page count. First, I need to convert the time string to a number of minutes. I kept track of the time in a \"H:MM\" format matching the information I get when I finish an ebook."
      ]
    },
    {
      "cell_type": "code",
      "metadata": {
        "colab": {
          "base_uri": "https://localhost:8080/",
          "height": 204
        },
        "id": "7SES8UrQu2ro",
        "outputId": "676bd296-a312-434e-cb0b-dec02e7c16e3"
      },
      "source": [
        "def timetominutes(t):\r\n",
        "  h, m = t.split(':')\r\n",
        "  return int(h) * 60 + int(m) \r\n",
        "books['Reading time (if known)'] = books[books['Reading time (if known)'].notna()]['Reading time (if known)'].apply(timetominutes)\r\n",
        "books.tail(5)"
      ],
      "execution_count": 6,
      "outputs": [
        {
          "output_type": "execute_result",
          "data": {
            "text/html": [
              "<div>\n",
              "<style scoped>\n",
              "    .dataframe tbody tr th:only-of-type {\n",
              "        vertical-align: middle;\n",
              "    }\n",
              "\n",
              "    .dataframe tbody tr th {\n",
              "        vertical-align: top;\n",
              "    }\n",
              "\n",
              "    .dataframe thead th {\n",
              "        text-align: right;\n",
              "    }\n",
              "</style>\n",
              "<table border=\"1\" class=\"dataframe\">\n",
              "  <thead>\n",
              "    <tr style=\"text-align: right;\">\n",
              "      <th></th>\n",
              "      <th>Count</th>\n",
              "      <th>Title</th>\n",
              "      <th>Author</th>\n",
              "      <th>Year</th>\n",
              "      <th>Note</th>\n",
              "      <th>Number of pages</th>\n",
              "      <th>Reading time (if known)</th>\n",
              "      <th>Reread?</th>\n",
              "    </tr>\n",
              "  </thead>\n",
              "  <tbody>\n",
              "    <tr>\n",
              "      <th>65</th>\n",
              "      <td>66</td>\n",
              "      <td>The Book Thief</td>\n",
              "      <td>Markus Zusak</td>\n",
              "      <td>2005</td>\n",
              "      <td>fiction; historical fiction; young adult</td>\n",
              "      <td>584</td>\n",
              "      <td>390.0</td>\n",
              "      <td>0</td>\n",
              "    </tr>\n",
              "    <tr>\n",
              "      <th>66</th>\n",
              "      <td>67</td>\n",
              "      <td>The Bookish Life of Nina Hill</td>\n",
              "      <td>Abbi Waxman</td>\n",
              "      <td>2019</td>\n",
              "      <td>fiction</td>\n",
              "      <td>352</td>\n",
              "      <td>267.0</td>\n",
              "      <td>0</td>\n",
              "    </tr>\n",
              "    <tr>\n",
              "      <th>67</th>\n",
              "      <td>68</td>\n",
              "      <td>P.S. I Still Love You</td>\n",
              "      <td>Jenny Han</td>\n",
              "      <td>2015</td>\n",
              "      <td>fiction; young adult; romance</td>\n",
              "      <td>337</td>\n",
              "      <td>226.0</td>\n",
              "      <td>0</td>\n",
              "    </tr>\n",
              "    <tr>\n",
              "      <th>68</th>\n",
              "      <td>69</td>\n",
              "      <td>A Brief History of Time</td>\n",
              "      <td>Stephen W. Hawking</td>\n",
              "      <td>1988</td>\n",
              "      <td>nonfiction</td>\n",
              "      <td>198</td>\n",
              "      <td>NaN</td>\n",
              "      <td>0</td>\n",
              "    </tr>\n",
              "    <tr>\n",
              "      <th>69</th>\n",
              "      <td>70</td>\n",
              "      <td>Breakfast at Tiffany's</td>\n",
              "      <td>Truman Capote</td>\n",
              "      <td>1958</td>\n",
              "      <td>fiction; novella; short story</td>\n",
              "      <td>179</td>\n",
              "      <td>177.0</td>\n",
              "      <td>0</td>\n",
              "    </tr>\n",
              "  </tbody>\n",
              "</table>\n",
              "</div>"
            ],
            "text/plain": [
              "    Count                          Title  ... Reading time (if known)  Reread?\n",
              "65     66                 The Book Thief  ...                   390.0        0\n",
              "66     67  The Bookish Life of Nina Hill  ...                   267.0        0\n",
              "67     68          P.S. I Still Love You  ...                   226.0        0\n",
              "68     69        A Brief History of Time  ...                     NaN        0\n",
              "69     70         Breakfast at Tiffany's  ...                   177.0        0\n",
              "\n",
              "[5 rows x 8 columns]"
            ]
          },
          "metadata": {
            "tags": []
          },
          "execution_count": 6
        }
      ]
    },
    {
      "cell_type": "markdown",
      "metadata": {
        "id": "vDxyuAlGB-Q1"
      },
      "source": [
        "Now I can plot reading time as a function of the number of pages. \r\n",
        "\r\n",
        "I found page counts through a variety of sources (openlibrary.org, Goodreads, Amazon paperback listings, checking books on my shelf). For books where I found multiple sources, I just picked one. This is a fun exercise, only approximate accuracy is required."
      ]
    },
    {
      "cell_type": "code",
      "metadata": {
        "colab": {
          "base_uri": "https://localhost:8080/",
          "height": 283
        },
        "id": "E1uxHzT_CprV",
        "outputId": "f59aaa0d-43d1-41d3-80e9-12e2321067d4"
      },
      "source": [
        "ax = books.plot('Number of pages', 'Reading time (if known)', kind='scatter')\r\n",
        "ax.set_xlabel(\"Page count\", size=14)\r\n",
        "ax.set_ylabel(\"Reading time (minutes)\", size=14)\r\n",
        "plt.show()"
      ],
      "execution_count": 7,
      "outputs": [
        {
          "output_type": "display_data",
          "data": {
            "image/png": "[encoded data removed]",
            "text/plain": [
              "<Figure size 432x288 with 1 Axes>"
            ]
          },
          "metadata": {
            "tags": [],
            "needs_background": "light"
          }
        }
      ]
    },
    {
      "cell_type": "markdown",
      "metadata": {
        "id": "iwyTCKgUEshj"
      },
      "source": [
        "There's definitely some degree of correlation between these properties. I want to try to get a linear fit so I can estimate a total book reading time for 2020. I know for a fact that one of the outliers was a Henry James novella called *The Turn of the Screw*. It was a challenging read. On the opposite end of the spectrum, there was a young adult book called *Spoiled* that was simpler than my usual choices.\r\n",
        "Since there are outliers on either side, I'm going keep all the data points and see what I end up with.\r\n",
        "\r\n",
        "I'll consider only ebooks for this. Because the only missing elements in the dataset are the reading times for physical books, I can use the handy **.dropna()** to separate the ebook subset of my list that has no missing values."
      ]
    },
    {
      "cell_type": "code",
      "metadata": {
        "id": "ayw88JjsFHr1"
      },
      "source": [
        "ebooks = books.dropna()"
      ],
      "execution_count": 8,
      "outputs": []
    },
    {
      "cell_type": "markdown",
      "metadata": {
        "id": "IsFPFOORiqfm"
      },
      "source": [
        "I'm using a linear fit with forced intercept so that 0 pages corresponds to 0 minutes of reading time. I know there are many ways to do this, but I wanted to test **scipy.optimize** since it lets me define a custom function for the model I'm trying to fit. That could be interesting for other projects."
      ]
    },
    {
      "cell_type": "code",
      "metadata": {
        "colab": {
          "base_uri": "https://localhost:8080/",
          "height": 285
        },
        "id": "_14sxaMdI_e-",
        "outputId": "de88c51f-93a3-4cda-de43-bfd328759cd5"
      },
      "source": [
        "import scipy.optimize as opt\r\n",
        "\r\n",
        "# test linear fit\r\n",
        "def func(x, a):\r\n",
        "     return a*x\r\n",
        "\r\n",
        "# fitting happens here\r\n",
        "params, pcov = opt.curve_fit(func, ebooks['Number of pages'], ebooks['Reading time (if known)'])\r\n",
        "x_data = range(ebooks['Number of pages'].min(), ebooks['Number of pages'].max())\r\n",
        "\r\n",
        "# use optimized parameters to plot the best fit\r\n",
        "plt.plot(x_data, func(x_data, params[0]), linestyle='dashed', color='k', label=\"Linear fit\")\r\n",
        "plt.scatter(ebooks['Number of pages'], ebooks['Reading time (if known)'], label=\"Data\")\r\n",
        "plt.xlabel(\"Page count\", size=14)\r\n",
        "plt.ylabel(\"Reading time (minutes)\", size=14)\r\n",
        "plt.legend()\r\n",
        "plt.show()"
      ],
      "execution_count": 9,
      "outputs": [
        {
          "output_type": "display_data",
          "data": {
            "image/png": "[encoded data removed]",
            "text/plain": [
              "<Figure size 432x288 with 1 Axes>"
            ]
          },
          "metadata": {
            "tags": [],
            "needs_background": "light"
          }
        }
      ]
    },
    {
      "cell_type": "markdown",
      "metadata": {
        "id": "jBieTbuvlhGP"
      },
      "source": [
        "From this, I can get an estimate of how much time I spent reading books in 2020 based on the proportionality constant from the fit. "
      ]
    },
    {
      "cell_type": "code",
      "metadata": {
        "colab": {
          "base_uri": "https://localhost:8080/"
        },
        "id": "dPP_GIJal4Ae",
        "outputId": "bbb15342-9b39-489b-c865-01d0ee4012d8"
      },
      "source": [
        "print(f\"Approximately {round(params[0],3)} minutes per page\")\r\n",
        "total_time = books['Number of pages'].sum() * params[0]\r\n",
        "print(f\"Total: {books['Number of pages'].sum()} pages or {round(total_time,1)} minutes (= {round(total_time/60,2)} hours)\")"
      ],
      "execution_count": 10,
      "outputs": [
        {
          "output_type": "stream",
          "text": [
            "Approximately 0.747 minutes per page\n",
            "Total: 20893 pages or 15605.3 minutes (= 260.09 hours)\n"
          ],
          "name": "stdout"
        }
      ]
    },
    {
      "cell_type": "markdown",
      "metadata": {
        "id": "64I7YKC8nIac"
      },
      "source": [
        "Perhaps a more interesting number would be how much time that is per day."
      ]
    },
    {
      "cell_type": "code",
      "metadata": {
        "colab": {
          "base_uri": "https://localhost:8080/"
        },
        "id": "8Dvxt9brnPFB",
        "outputId": "3da46d9d-8a21-4158-9f3c-417b4fe1f9c8"
      },
      "source": [
        "print(f\"Approximately {round(total_time/365,2)} minutes read per day\")"
      ],
      "execution_count": 11,
      "outputs": [
        {
          "output_type": "stream",
          "text": [
            "Approximately 42.75 minutes read per day\n"
          ],
          "name": "stdout"
        }
      ]
    },
    {
      "cell_type": "markdown",
      "metadata": {
        "id": "-5suPx_CrMko"
      },
      "source": [
        "One last thing I want to check regarding the relationship between reading time and page count is if this varies by year. \r\n",
        "\r\n",
        "Are older books more difficult for me to parse?"
      ]
    },
    {
      "cell_type": "code",
      "metadata": {
        "colab": {
          "base_uri": "https://localhost:8080/",
          "height": 285
        },
        "id": "mWEVf1ARr6KV",
        "outputId": "0981949b-b744-4f8e-bf0b-fc813a0d87cd"
      },
      "source": [
        "plt.figure()\r\n",
        "plt.scatter(ebooks['Year'], ebooks['Reading time (if known)']/ebooks['Number of pages'])\r\n",
        "plt.ylabel(\"Minutes per page\", size=14)\r\n",
        "plt.xlabel(\"Publication year\", size=14)\r\n",
        "plt.show()"
      ],
      "execution_count": 12,
      "outputs": [
        {
          "output_type": "display_data",
          "data": {
            "image/png": "[encoded data removed]",
            "text/plain": [
              "<Figure size 432x288 with 1 Axes>"
            ]
          },
          "metadata": {
            "tags": [],
            "needs_background": "light"
          }
        }
      ]
    },
    {
      "cell_type": "markdown",
      "metadata": {
        "id": "dfuzUCLGw1KA"
      },
      "source": [
        "I would need more information on books earlier than about 1950 to be really conclusive, but it looks as though that might be the case."
      ]
    },
    {
      "cell_type": "markdown",
      "metadata": {
        "id": "2tz2GDtdsJkO"
      },
      "source": [
        "# Separating genres"
      ]
    },
    {
      "cell_type": "markdown",
      "metadata": {
        "id": "wQuR7lpbw4rZ"
      },
      "source": [
        "I sort of kept track genres by way of a column with multiple entries. This is not ideal, it means that I can't easily sort!\r\n",
        "\r\n",
        "I also left a lot of books simply as \"fiction\" if I wasn't sure what other category would best apply so this is by no means an exhaustive identification. \r\n",
        "\r\n",
        "This is what I'm working with at the start:"
      ]
    },
    {
      "cell_type": "code",
      "metadata": {
        "colab": {
          "base_uri": "https://localhost:8080/"
        },
        "id": "niF19ZD0M8Rk",
        "outputId": "22e804a2-aa93-4391-8164-0a60b62ad722"
      },
      "source": [
        "from sklearn.preprocessing import MultiLabelBinarizer\r\n",
        "mlb = MultiLabelBinarizer()\r\n",
        "\r\n",
        "inputX = [element.split(';') for element in books['Note']]\r\n",
        "\r\n",
        "transformedX = mlb.fit_transform(inputX)\r\n",
        "labels = [element.strip() for element in mlb.classes_]\r\n",
        "\r\n",
        "print(f\"{len(labels)} categories as follow:\")\r\n",
        "labels"
      ],
      "execution_count": 13,
      "outputs": [
        {
          "output_type": "stream",
          "text": [
            "19 categories as follow:\n"
          ],
          "name": "stdout"
        },
        {
          "output_type": "execute_result",
          "data": {
            "text/plain": [
              "['biography',\n",
              " 'children’s',\n",
              " 'classics',\n",
              " 'fairy tales',\n",
              " 'fantasy',\n",
              " 'french',\n",
              " 'german',\n",
              " 'graphic novel',\n",
              " 'historical fiction',\n",
              " 'horror',\n",
              " 'mystery',\n",
              " 'novella',\n",
              " 'romance',\n",
              " 'science fiction',\n",
              " 'short story',\n",
              " 'thriller',\n",
              " 'young adult',\n",
              " 'fiction',\n",
              " 'nonfiction']"
            ]
          },
          "metadata": {
            "tags": []
          },
          "execution_count": 13
        }
      ]
    },
    {
      "cell_type": "markdown",
      "metadata": {
        "id": "W0FNokaeRAYv"
      },
      "source": [
        "I split the labels on their delimiter \";\", then use the **MultiLabelBinarizer** to find the unique labels and classify book entries with binary 0/1 for each unique label.\r\n",
        "\r\n",
        "At the end, I make an ordered copy of the label list that removes whitespace to make it tidier. The issue of space characters isn't a problem during classification since the first tag I add for each entry is a fiction/nonfiction identifier, followed by additional notes if I feel like it. This makes the input style at least consistent - first labels have no spaces while all subsequent labels are preceded by a space.\r\n",
        "\r\n",
        "Next, I want to put this information back in a dataframe using the labels and output from MultiLabelBinarizer."
      ]
    },
    {
      "cell_type": "code",
      "metadata": {
        "colab": {
          "base_uri": "https://localhost:8080/",
          "height": 241
        },
        "id": "85I85bPoSjjx",
        "outputId": "0c06aebd-7d5d-4960-f126-8403bf5a88c1"
      },
      "source": [
        "genres = pd.DataFrame(transformedX, columns=labels)\r\n",
        "genres.head(5)"
      ],
      "execution_count": 14,
      "outputs": [
        {
          "output_type": "execute_result",
          "data": {
            "text/html": [
              "<div>\n",
              "<style scoped>\n",
              "    .dataframe tbody tr th:only-of-type {\n",
              "        vertical-align: middle;\n",
              "    }\n",
              "\n",
              "    .dataframe tbody tr th {\n",
              "        vertical-align: top;\n",
              "    }\n",
              "\n",
              "    .dataframe thead th {\n",
              "        text-align: right;\n",
              "    }\n",
              "</style>\n",
              "<table border=\"1\" class=\"dataframe\">\n",
              "  <thead>\n",
              "    <tr style=\"text-align: right;\">\n",
              "      <th></th>\n",
              "      <th>biography</th>\n",
              "      <th>children’s</th>\n",
              "      <th>classics</th>\n",
              "      <th>fairy tales</th>\n",
              "      <th>fantasy</th>\n",
              "      <th>french</th>\n",
              "      <th>german</th>\n",
              "      <th>graphic novel</th>\n",
              "      <th>historical fiction</th>\n",
              "      <th>horror</th>\n",
              "      <th>mystery</th>\n",
              "      <th>novella</th>\n",
              "      <th>romance</th>\n",
              "      <th>science fiction</th>\n",
              "      <th>short story</th>\n",
              "      <th>thriller</th>\n",
              "      <th>young adult</th>\n",
              "      <th>fiction</th>\n",
              "      <th>nonfiction</th>\n",
              "    </tr>\n",
              "  </thead>\n",
              "  <tbody>\n",
              "    <tr>\n",
              "      <th>0</th>\n",
              "      <td>0</td>\n",
              "      <td>0</td>\n",
              "      <td>0</td>\n",
              "      <td>0</td>\n",
              "      <td>0</td>\n",
              "      <td>0</td>\n",
              "      <td>0</td>\n",
              "      <td>0</td>\n",
              "      <td>0</td>\n",
              "      <td>0</td>\n",
              "      <td>0</td>\n",
              "      <td>0</td>\n",
              "      <td>0</td>\n",
              "      <td>0</td>\n",
              "      <td>0</td>\n",
              "      <td>0</td>\n",
              "      <td>0</td>\n",
              "      <td>0</td>\n",
              "      <td>1</td>\n",
              "    </tr>\n",
              "    <tr>\n",
              "      <th>1</th>\n",
              "      <td>0</td>\n",
              "      <td>1</td>\n",
              "      <td>1</td>\n",
              "      <td>0</td>\n",
              "      <td>0</td>\n",
              "      <td>0</td>\n",
              "      <td>0</td>\n",
              "      <td>0</td>\n",
              "      <td>0</td>\n",
              "      <td>0</td>\n",
              "      <td>0</td>\n",
              "      <td>0</td>\n",
              "      <td>0</td>\n",
              "      <td>0</td>\n",
              "      <td>0</td>\n",
              "      <td>0</td>\n",
              "      <td>0</td>\n",
              "      <td>1</td>\n",
              "      <td>0</td>\n",
              "    </tr>\n",
              "    <tr>\n",
              "      <th>2</th>\n",
              "      <td>0</td>\n",
              "      <td>0</td>\n",
              "      <td>1</td>\n",
              "      <td>0</td>\n",
              "      <td>0</td>\n",
              "      <td>0</td>\n",
              "      <td>0</td>\n",
              "      <td>0</td>\n",
              "      <td>0</td>\n",
              "      <td>0</td>\n",
              "      <td>0</td>\n",
              "      <td>0</td>\n",
              "      <td>0</td>\n",
              "      <td>0</td>\n",
              "      <td>0</td>\n",
              "      <td>0</td>\n",
              "      <td>0</td>\n",
              "      <td>1</td>\n",
              "      <td>0</td>\n",
              "    </tr>\n",
              "    <tr>\n",
              "      <th>3</th>\n",
              "      <td>0</td>\n",
              "      <td>0</td>\n",
              "      <td>0</td>\n",
              "      <td>0</td>\n",
              "      <td>0</td>\n",
              "      <td>0</td>\n",
              "      <td>0</td>\n",
              "      <td>0</td>\n",
              "      <td>0</td>\n",
              "      <td>0</td>\n",
              "      <td>1</td>\n",
              "      <td>0</td>\n",
              "      <td>0</td>\n",
              "      <td>0</td>\n",
              "      <td>0</td>\n",
              "      <td>0</td>\n",
              "      <td>0</td>\n",
              "      <td>1</td>\n",
              "      <td>0</td>\n",
              "    </tr>\n",
              "    <tr>\n",
              "      <th>4</th>\n",
              "      <td>0</td>\n",
              "      <td>0</td>\n",
              "      <td>0</td>\n",
              "      <td>0</td>\n",
              "      <td>0</td>\n",
              "      <td>0</td>\n",
              "      <td>0</td>\n",
              "      <td>0</td>\n",
              "      <td>0</td>\n",
              "      <td>0</td>\n",
              "      <td>0</td>\n",
              "      <td>0</td>\n",
              "      <td>0</td>\n",
              "      <td>0</td>\n",
              "      <td>0</td>\n",
              "      <td>0</td>\n",
              "      <td>0</td>\n",
              "      <td>0</td>\n",
              "      <td>1</td>\n",
              "    </tr>\n",
              "  </tbody>\n",
              "</table>\n",
              "</div>"
            ],
            "text/plain": [
              "   biography  children’s  classics  ...  young adult  fiction  nonfiction\n",
              "0          0           0         0  ...            0        0           1\n",
              "1          0           1         1  ...            0        1           0\n",
              "2          0           0         1  ...            0        1           0\n",
              "3          0           0         0  ...            0        1           0\n",
              "4          0           0         0  ...            0        0           1\n",
              "\n",
              "[5 rows x 19 columns]"
            ]
          },
          "metadata": {
            "tags": []
          },
          "execution_count": 14
        }
      ]
    },
    {
      "cell_type": "markdown",
      "metadata": {
        "id": "4egmuxqo0-wz"
      },
      "source": [
        "The most general identifier that I always use is fiction vs. nonfiction, let's see what the proportion is."
      ]
    },
    {
      "cell_type": "code",
      "metadata": {
        "colab": {
          "base_uri": "https://localhost:8080/"
        },
        "id": "YSuz1fwm1JyW",
        "outputId": "3b9ff112-c188-4d44-9283-3507eba2c0a6"
      },
      "source": [
        "print(f\"Fiction: {genres['fiction'].sum()}\")\r\n",
        "print(f\"Nonfiction: {genres['nonfiction'].sum()}\")"
      ],
      "execution_count": 15,
      "outputs": [
        {
          "output_type": "stream",
          "text": [
            "Fiction: 60\n",
            "Nonfiction: 10\n"
          ],
          "name": "stdout"
        }
      ]
    },
    {
      "cell_type": "markdown",
      "metadata": {
        "id": "ox9FY5Dhstun"
      },
      "source": [
        "I can also see counts by column for all the labels. "
      ]
    },
    {
      "cell_type": "code",
      "metadata": {
        "colab": {
          "base_uri": "https://localhost:8080/"
        },
        "id": "qLMoY5-7_Ojy",
        "outputId": "41afa4c5-09ac-4830-aa9f-7560325abe04"
      },
      "source": [
        "genres.sum()"
      ],
      "execution_count": 16,
      "outputs": [
        {
          "output_type": "execute_result",
          "data": {
            "text/plain": [
              "biography              7\n",
              "children’s             1\n",
              "classics               4\n",
              "fairy tales            2\n",
              "fantasy                1\n",
              "french                 1\n",
              "german                 1\n",
              "graphic novel          2\n",
              "historical fiction     7\n",
              "horror                 2\n",
              "mystery                4\n",
              "novella                3\n",
              "romance               10\n",
              "science fiction        2\n",
              "short story            4\n",
              "thriller               2\n",
              "young adult           26\n",
              "fiction               60\n",
              "nonfiction            10\n",
              "dtype: int64"
            ]
          },
          "metadata": {
            "tags": []
          },
          "execution_count": 16
        }
      ]
    },
    {
      "cell_type": "markdown",
      "metadata": {
        "id": "MopIa4IyuYbq"
      },
      "source": [
        "The most used labels are \"fiction\" followed by \"young adult\" with \"nonfiction\" and \"romance\" tied for third. This makes a lot of sense given that I read a lot more novels than nonfiction work. \r\n",
        "\r\n",
        "As for the \"young adult\" label, I can attribute that in large part to my love of Diana Wynne Jones. This year, I tried to find as many of her books as I could to read. Her work is aimed primarily at younger audiences (I grew up enjoying her Chrestomanci books among others) but remains entertaining at any age.\r\n",
        "\r\n",
        "To see how skewed this makes the overall tally, see the top author below. Diana Wynne Jones accounts for about a quarter of the books! Some books have more than one author and I prefer not to split that up - the style depends on their coming together and can't always be compared to their solo work."
      ]
    },
    {
      "cell_type": "code",
      "metadata": {
        "colab": {
          "base_uri": "https://localhost:8080/",
          "height": 297
        },
        "id": "7vbMzi1Tu7Q7",
        "outputId": "4f58099f-7bb6-4ca7-dc18-cc75044b9a0d"
      },
      "source": [
        "books['Author'].value_counts().to_frame().head(8)"
      ],
      "execution_count": 17,
      "outputs": [
        {
          "output_type": "execute_result",
          "data": {
            "text/html": [
              "<div>\n",
              "<style scoped>\n",
              "    .dataframe tbody tr th:only-of-type {\n",
              "        vertical-align: middle;\n",
              "    }\n",
              "\n",
              "    .dataframe tbody tr th {\n",
              "        vertical-align: top;\n",
              "    }\n",
              "\n",
              "    .dataframe thead th {\n",
              "        text-align: right;\n",
              "    }\n",
              "</style>\n",
              "<table border=\"1\" class=\"dataframe\">\n",
              "  <thead>\n",
              "    <tr style=\"text-align: right;\">\n",
              "      <th></th>\n",
              "      <th>Author</th>\n",
              "    </tr>\n",
              "  </thead>\n",
              "  <tbody>\n",
              "    <tr>\n",
              "      <th>Diana Wynne Jones</th>\n",
              "      <td>16</td>\n",
              "    </tr>\n",
              "    <tr>\n",
              "      <th>Courtney Milan</th>\n",
              "      <td>4</td>\n",
              "    </tr>\n",
              "    <tr>\n",
              "      <th>P. G. Wodehouse</th>\n",
              "      <td>2</td>\n",
              "    </tr>\n",
              "    <tr>\n",
              "      <th>George Macdonald</th>\n",
              "      <td>2</td>\n",
              "    </tr>\n",
              "    <tr>\n",
              "      <th>Ursula K. Le Guin</th>\n",
              "      <td>2</td>\n",
              "    </tr>\n",
              "    <tr>\n",
              "      <th>Jenny Han</th>\n",
              "      <td>2</td>\n",
              "    </tr>\n",
              "    <tr>\n",
              "      <th>Henry James</th>\n",
              "      <td>1</td>\n",
              "    </tr>\n",
              "    <tr>\n",
              "      <th>Tessa Bailey</th>\n",
              "      <td>1</td>\n",
              "    </tr>\n",
              "  </tbody>\n",
              "</table>\n",
              "</div>"
            ],
            "text/plain": [
              "                   Author\n",
              "Diana Wynne Jones      16\n",
              "Courtney Milan          4\n",
              "P. G. Wodehouse         2\n",
              "George Macdonald        2\n",
              "Ursula K. Le Guin       2\n",
              "Jenny Han               2\n",
              "Henry James             1\n",
              "Tessa Bailey            1"
            ]
          },
          "metadata": {
            "tags": []
          },
          "execution_count": 17
        }
      ]
    },
    {
      "cell_type": "markdown",
      "metadata": {
        "id": "ZroPY1CP0Ig2"
      },
      "source": [
        "After the first few authors with repeats, all the rest only appear once."
      ]
    },
    {
      "cell_type": "markdown",
      "metadata": {
        "id": "LE_0A2py7E_o"
      },
      "source": [
        "# Can we predict anything?"
      ]
    },
    {
      "cell_type": "markdown",
      "metadata": {
        "id": "He0-OtAW7KAw"
      },
      "source": [
        "With such a small dataset, I want to know if it's possible to predict anything of interest. The author and title categories are pretty specific, and I've already worked on making use of the reading time for the books that have that statistic. \r\n",
        "\r\n",
        "Maybe there's a link between the year and other book properties."
      ]
    },
    {
      "cell_type": "code",
      "metadata": {
        "colab": {
          "base_uri": "https://localhost:8080/",
          "height": 283
        },
        "id": "InxjLSQJ_1Rh",
        "outputId": "b01265e7-c12b-4ca5-e50d-5d726d1b5eed"
      },
      "source": [
        "plt.scatter(books['Year'], books['Number of pages'])\r\n",
        "plt.xlabel('Year', size=14)\r\n",
        "plt.ylabel('Page count', size=14)\r\n",
        "plt.show()"
      ],
      "execution_count": 18,
      "outputs": [
        {
          "output_type": "display_data",
          "data": {
            "image/png": "[encoded data removed]",
            "text/plain": [
              "<Figure size 432x288 with 1 Axes>"
            ]
          },
          "metadata": {
            "tags": [],
            "needs_background": "light"
          }
        }
      ]
    },
    {
      "cell_type": "markdown",
      "metadata": {
        "id": "-SrtRdDaccsP"
      },
      "source": [
        "It doesn't look promising. \r\n",
        "\r\n",
        "More quantitatively:"
      ]
    },
    {
      "cell_type": "code",
      "metadata": {
        "colab": {
          "base_uri": "https://localhost:8080/"
        },
        "id": "WL9MpK5zAFQN",
        "outputId": "819d3fb5-b6a1-4b0f-9edb-a4616ee4c1fd"
      },
      "source": [
        "from scipy.stats import pearsonr\r\n",
        "pearsonr(books['Year'], books['Number of pages'])"
      ],
      "execution_count": 19,
      "outputs": [
        {
          "output_type": "execute_result",
          "data": {
            "text/plain": [
              "(0.23459714376063856, 0.05060509227431023)"
            ]
          },
          "metadata": {
            "tags": []
          },
          "execution_count": 19
        }
      ]
    },
    {
      "cell_type": "markdown",
      "metadata": {
        "id": "TOwqsVwZJJfi"
      },
      "source": [
        "These two variables are not highly correlated.\r\n",
        "\r\n",
        "Having seen the distribution of page count as a function of year, I want to test if taking the genre labels into account will make it possible to more accurately predict the number of pages. I can split the data into X (input) and y (result), keeping only the columns that interest me."
      ]
    },
    {
      "cell_type": "code",
      "metadata": {
        "id": "AtNvm4_7PDvO"
      },
      "source": [
        "X = pd.concat([books[['Year']], genres], axis=1)\r\n",
        "y = books[['Number of pages']]"
      ],
      "execution_count": 20,
      "outputs": []
    },
    {
      "cell_type": "markdown",
      "metadata": {
        "id": "b6jJ8OhUErek"
      },
      "source": [
        "This part lets me use linear regression on $X=(x_1,...,x_n)$ of the form\r\n",
        "\\begin{equation*}\r\n",
        "y = \\sum_{i=1}^n a_i x_i + a_0 \r\n",
        "\\end{equation*}\r\n",
        "to try to find possible correlations by fitting the $a_i$. In this case, the indices 1 through *n* refer to the different column entries for each book. I'm using a model from **sklearn**."
      ]
    },
    {
      "cell_type": "code",
      "metadata": {
        "colab": {
          "base_uri": "https://localhost:8080/"
        },
        "id": "0htu6GGwRgOR",
        "outputId": "79545f22-f1be-4fd6-82ef-9100236f0f2e"
      },
      "source": [
        "from sklearn import linear_model\r\n",
        "\r\n",
        "# with sklearn\r\n",
        "regr = linear_model.LinearRegression()\r\n",
        "regr.fit(X, y)\r\n",
        "\r\n",
        "print('Intercept: \\n', *regr.intercept_)\r\n",
        "print('Coefficients:')\r\n",
        "for name, val in zip(X.columns, *regr.coef_):\r\n",
        "  print(f'{name:20s} {val:10.3f}')\r\n",
        "print('R squared score: \\n', regr.score(X, y))"
      ],
      "execution_count": 21,
      "outputs": [
        {
          "output_type": "stream",
          "text": [
            "Intercept: \n",
            " -3727.265952114725\n",
            "Coefficients:\n",
            "Year                      2.011\n",
            "biography                 8.773\n",
            "children’s             -344.341\n",
            "classics                441.438\n",
            "fairy tales              69.429\n",
            "fantasy                 -52.210\n",
            "french                  -33.041\n",
            "german                 -129.053\n",
            "graphic novel          -134.127\n",
            "historical fiction       63.132\n",
            "horror                 -270.467\n",
            "mystery                 108.746\n",
            "novella                -124.853\n",
            "romance                 -82.999\n",
            "science fiction         -19.362\n",
            "short story             -45.109\n",
            "thriller                 37.347\n",
            "young adult              -6.417\n",
            "fiction                  33.941\n",
            "nonfiction              -33.941\n",
            "R squared score: \n",
            " 0.45724449167699377\n"
          ],
          "name": "stdout"
        }
      ]
    },
    {
      "cell_type": "markdown",
      "metadata": {
        "id": "kqkwrtYM8AF0"
      },
      "source": [
        "The score is better than I was expecting, but still not particularly good. \r\n",
        "Seeing the coefficients this way helps me to interpret this fit. There's a negative offset which starts all books with a negative page count that is compensated by the term proportional to the year. Then, different labels tend to modify the page count by the coefficient value, i.e. a classic is predicted to be 441 pages longer, but a graphic novel would be 134 pages shorter. \r\n",
        "\r\n",
        "If I were consistent about all the different genre labels and each book had two or three, it might help. A lot of the labels are used infrequently. I don't strictly need the fiction and nonfiction categories, but it makes sense to see that they end up having exact opposite effects in the fit.\r\n",
        "\r\n",
        "To see if the predicted page counts are anywhere close to reasonable numbers, let's try a couple samples."
      ]
    },
    {
      "cell_type": "code",
      "metadata": {
        "colab": {
          "base_uri": "https://localhost:8080/"
        },
        "id": "Pz9vLrAXeACC",
        "outputId": "683a8d20-4dbb-4686-8087-f2d4c6a61125"
      },
      "source": [
        "print('Fiction:', regr.predict([[1990,0,0,0,0,0,0,0,0,0,0,0,0,0,0,0,0,0,1,0]]))\r\n",
        "print('Nonfiction:', regr.predict([[1990,0,0,0,0,0,0,0,0,0,0,0,0,0,0,0,0,0,0,1]]))\r\n",
        "print(\"Children's fiction:\", regr.predict([[1990,0,1,0,0,0,0,0,0,0,0,0,0,0,0,0,0,0,0,1]]))"
      ],
      "execution_count": 22,
      "outputs": [
        {
          "output_type": "stream",
          "text": [
            "Fiction: [[307.86043788]]\n",
            "Nonfiction: [[239.97870802]]\n",
            "Children's fiction: [[-104.36196374]]\n"
          ],
          "name": "stdout"
        }
      ]
    },
    {
      "cell_type": "markdown",
      "metadata": {
        "id": "K-ExPuCBduih"
      },
      "source": [
        "It comes out to 308 pages for fiction vs. 240 pages for nonfiction for the year 1990. Definitely reasonable. However, if I make that a children's book, it quickly goes awry. \r\n",
        "\r\n",
        "For fun, I checked to see if withholding some of the data from the fit to use as a test set with would give accurate results. Despite the R squared score in training remaining at the same level around 0.5, the test scores are almost all negative or pretty bad. Here's a printout of some example stats."
      ]
    },
    {
      "cell_type": "code",
      "metadata": {
        "colab": {
          "base_uri": "https://localhost:8080/"
        },
        "id": "bKrA_ACOzWel",
        "outputId": "31755f40-7891-4cbf-8dea-20db718954ab"
      },
      "source": [
        "from sklearn.model_selection import KFold, cross_validate\r\n",
        "kf = KFold(n_splits=5, shuffle=True, random_state=1)\r\n",
        "\r\n",
        "cross_validate(regr, X, y=y, cv=kf.split(X), return_train_score=True, scoring=['r2', 'explained_variance', 'neg_root_mean_squared_error'])"
      ],
      "execution_count": 23,
      "outputs": [
        {
          "output_type": "execute_result",
          "data": {
            "text/plain": [
              "{'fit_time': array([0.00572085, 0.00235224, 0.00227284, 0.00243688, 0.00219822]),\n",
              " 'score_time': array([0.00521874, 0.00290656, 0.00280476, 0.00275946, 0.00297856]),\n",
              " 'test_explained_variance': array([-0.27698431,  0.1618899 , -1.71762818, -0.26988971, -1.01753571]),\n",
              " 'test_neg_root_mean_squared_error': array([-151.78128379, -121.36478374, -133.36677122, -129.63145129,\n",
              "        -143.93778569]),\n",
              " 'test_r2': array([-0.27808741,  0.14412052, -2.27043213, -0.41337546, -1.04441759]),\n",
              " 'train_explained_variance': array([0.42915854, 0.50025275, 0.52661214, 0.54035023, 0.46991954]),\n",
              " 'train_neg_root_mean_squared_error': array([-80.59581755, -75.96207822, -82.62368463, -76.90497757,\n",
              "        -83.89799387]),\n",
              " 'train_r2': array([0.42915854, 0.50025275, 0.52661214, 0.54035023, 0.46991954])}"
            ]
          },
          "metadata": {
            "tags": []
          },
          "execution_count": 23
        }
      ]
    },
    {
      "cell_type": "markdown",
      "metadata": {
        "id": "s2gVCvvxBG0_"
      },
      "source": [
        "The RMS error on the test predictions is about 130 pages off, compared to about 80 pages off in training. In any case, this has been a fun exercise! It would be interesting to try something similar with a larger, more complete dataset not influenced by my taste in books."
      ]
    },
    {
      "cell_type": "markdown",
      "metadata": {
        "id": "dvKL7ud_xC19"
      },
      "source": [
        "# Goals for next year"
      ]
    },
    {
      "cell_type": "markdown",
      "metadata": {
        "id": "zXX-xML3xIdL"
      },
      "source": [
        "In keeping with my usual resolution to read as much as I can, I would like to challenge myself to aim for breadth, by reading more diverse authors and continuing to enjoy books from different time periods. \r\n",
        "\r\n",
        "I didn't read a lot of nonfiction this year, but what I did read I enjoyed. Biographies, funny autobiographies in particular are really interesting and I think I should give more of them a try. \r\n",
        "\r\n",
        "I also want to read more books in French. I haven't had nearly as much occasion to practice my French lately, and I think this would be a good way to keep vocabulary active. I should look for easy German books too."
      ]
    }
  ]
}